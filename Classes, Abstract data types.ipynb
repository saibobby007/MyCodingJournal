{
 "cells": [
  {
   "cell_type": "code",
   "execution_count": 94,
   "metadata": {},
   "outputs": [],
   "source": [
    "## Point in XY plane\n",
    "\n",
    "from math import *\n",
    "\n",
    "class Point:\n",
    "    \n",
    "    def __init__(self,a=0,b=0):# defining a,b as variables\n",
    "        self.x = a  #ye are setting up a as x\n",
    "        self.y = b  #we are setting up b as y\n",
    "    \n",
    "    def move(self,dx,dy):\n",
    "        self.x += dx\n",
    "        self.y += dy\n",
    "        \n",
    "    def odist(self):\n",
    "        # disatnce form (0,0)\n",
    "        return(sqrt((self.x*self.x)+(self.y*self.y)))\n",
    "    \n",
    "    def __str__(self):\n",
    "        print('self.x,self.y')\n",
    "\n",
    "\n",
    "def dist(m,n):\n",
    "    \n",
    "    d = sqrt((m.x-n.x)*(m.x-n.x)+(m.y-n.y)*(m.y-n.y))\n",
    "    return(d)\n",
    "               \n",
    "        "
   ]
  },
  {
   "cell_type": "code",
   "execution_count": 95,
   "metadata": {},
   "outputs": [
    {
     "data": {
      "text/plain": [
       "2.23606797749979"
      ]
     },
     "execution_count": 95,
     "metadata": {},
     "output_type": "execute_result"
    }
   ],
   "source": [
    "p1 = Point(1,2)\n",
    "p2 = Point()\n",
    "dist(p1,p2)"
   ]
  },
  {
   "cell_type": "code",
   "execution_count": null,
   "metadata": {},
   "outputs": [],
   "source": []
  },
  {
   "cell_type": "code",
   "execution_count": 116,
   "metadata": {},
   "outputs": [],
   "source": [
    "# Linked List\n",
    "\n",
    "class Node:\n",
    "    def __init__(self,initval=None): #initial Value is by defailt set as None and\n",
    "        self.value = initval\n",
    "        self.next = None\n",
    "        \n",
    "    def isempty(self):\n",
    "        return(self.value==None)\n",
    "    \n",
    "    # append a value to the list vai recursion \n",
    "    def append(self,v):\n",
    "        \n",
    "        # if list is already empty \n",
    "        if self.isempty():\n",
    "            self.value = v\n",
    "        \n",
    "        #if the list is not empty     \n",
    "        \n",
    "        elif self.next == None:\n",
    "            newnode = Node(v)\n",
    "            self.next = newnode\n",
    "            \n",
    "        else:\n",
    "            ((self.next)).apppend(v)\n",
    "            # recursive call\n",
    "            return()\n",
    "        \n",
    "    def append(self,v):\n",
    "        \n",
    "        # if list is already empty \n",
    "        if self.isempty():\n",
    "            self.value = v\n",
    "            return()\n",
    "        \n",
    "        temp = self\n",
    "        \n",
    "        while temp.next != None:\n",
    "            temp = temp.next\n",
    "        #if the list is not empty     \n",
    "        \n",
    "        elif self.next == None:\n",
    "            newnode = Node(v)\n",
    "            self.next = newnode\n",
    "            \n",
    "        else:\n",
    "            ((self.next)).apppend(v)\n",
    "            # recursive call\n",
    "            return()\n",
    "    \n",
    "            \n",
    "            \n",
    "        \n",
    "    "
   ]
  },
  {
   "cell_type": "code",
   "execution_count": 124,
   "metadata": {},
   "outputs": [
    {
     "data": {
      "text/plain": [
       "False"
      ]
     },
     "execution_count": 124,
     "metadata": {},
     "output_type": "execute_result"
    }
   ],
   "source": [
    "list1 = Node([1,2,3,4,5])\n",
    "list1.isempty()"
   ]
  },
  {
   "cell_type": "raw",
   "metadata": {},
   "source": [
    "## sas\n",
    "\n",
    "DATA Tutorial;\n",
    "x=10;\n",
    "run;\n",
    "\n",
    "PROC \n",
    "\n",
    "\n",
    "DATA Tutorial;\n",
    "INPUT A B C;\n",
    "DATALINES;\n",
    "1 2 3 \n",
    "2 4 6\n",
    "1 2 4\n",
    ";\n",
    "run;\n",
    "\n",
    "proc print data = tutorial;\n",
    "run;"
   ]
  },
  {
   "cell_type": "code",
   "execution_count": 129,
   "metadata": {},
   "outputs": [],
   "source": [
    "from pandas import DataFrame"
   ]
  },
  {
   "cell_type": "code",
   "execution_count": 130,
   "metadata": {},
   "outputs": [],
   "source": [
    "## Binary Search Trees"
   ]
  },
  {
   "cell_type": "code",
   "execution_count": 186,
   "metadata": {},
   "outputs": [],
   "source": [
    "class Tree:\n",
    "    \n",
    "    def __init__(self,val=None):\n",
    "        self.value = val\n",
    "        if self.value:\n",
    "            self.left = Tree()\n",
    "            self.right = Tree()\n",
    "        else:\n",
    "            self.left = None\n",
    "            self.right = None\n",
    "        \n",
    "    \n",
    "    def isempty(self):\n",
    "        return(self.value==None);\n",
    "    \n",
    "## Inorder Traversal - Explores the Left side first, recursively, then pick up the node value, \n",
    "##then pick upp the right side    \n",
    "    def inorder(self):\n",
    "        if self.isempty():\n",
    "            return([])\n",
    "        else:\n",
    "            return(\n",
    "            self.left.inorder()\n",
    "            +[self.value]\n",
    "            +self.right.inorder()\n",
    "            )\n",
    "    \n",
    "    def __str__(self):\n",
    "        \n",
    "        return(str(self.inorder()));\n",
    "    \n",
    "    ##Finding  a value V\n",
    "    \n",
    "    def find(self,v):\n",
    "        \n",
    "        if self.isempty():\n",
    "            return(False)\n",
    "        if self.value == v:\n",
    "            return(True)\n",
    "        if v < self.value:\n",
    "            return(self.left.find(v))\n",
    "        else:\n",
    "            return(self.right.find(v))\n",
    "        \n",
    "        \n",
    "        ## Finding Minimum and Max in a Tree\n",
    "        \n",
    "    def min(self):\n",
    "        # Assume that the tree is non empty\n",
    "        if self.left==None:\n",
    "            return(self.value)\n",
    "        else:\n",
    "            return(self.left.min())\n",
    "        \n",
    "\n",
    "    def max(self):\n",
    "        # Assume that the tree is non empty\n",
    "        if self.right==None:\n",
    "            return(self.value)\n",
    "        else:\n",
    "            return(self.left.right())\n",
    "        \n",
    "    ## DYNAMIC ADDITION OF VALUES IN THE TREE\n",
    "    \n",
    "    def insert(self,v):\n",
    "        if self.isempty():\n",
    "            self.value = v\n",
    "            self.left = Tree()\n",
    "            self.right = Tree()\n",
    "            \n",
    "        if self.value == v:\n",
    "            return\n",
    "        \n",
    "        if v<self.value :\n",
    "            self.left.insert(v)\n",
    "        elif v > self.value:\n",
    "            self.right.insert(v)\n",
    "            return(print(self))\n",
    "        \n",
    "        ## Dynamic Deletion of a Value!\n",
    "        \n",
    "    def delete(self,v):\n",
    "        \n",
    "        if self.isempty():\n",
    "            return \n",
    "            \n",
    "        \n",
    "    \n",
    "            \n",
    "        \n",
    "        \n",
    "        \n",
    "        \n",
    "        \n",
    "        \n",
    "        \n",
    "        \n",
    "        \n",
    "        \n",
    "        \n",
    "        \n",
    "        \n",
    "        "
   ]
  },
  {
   "cell_type": "code",
   "execution_count": 187,
   "metadata": {},
   "outputs": [],
   "source": [
    "t = Tree()"
   ]
  },
  {
   "cell_type": "code",
   "execution_count": 188,
   "metadata": {},
   "outputs": [
    {
     "name": "stdout",
     "output_type": "stream",
     "text": [
      "[1, 2]\n",
      "[2, 3]\n",
      "[1, 2, 3]\n",
      "[3, 4]\n",
      "[2, 3, 4]\n",
      "[1, 2, 3, 4]\n",
      "[4, 5]\n",
      "[3, 4, 5]\n",
      "[2, 3, 4, 5]\n",
      "[1, 2, 3, 4, 5]\n",
      "[5, 6]\n",
      "[4, 5, 6]\n",
      "[3, 4, 5, 6]\n",
      "[2, 3, 4, 5, 6]\n",
      "[1, 2, 3, 4, 5, 6]\n",
      "[6, 8]\n",
      "[5, 6, 8]\n",
      "[4, 5, 6, 8]\n",
      "[3, 4, 5, 6, 8]\n",
      "[2, 3, 4, 5, 6, 8]\n",
      "[1, 2, 3, 4, 5, 6, 8]\n",
      "[8, 98]\n",
      "[6, 8, 98]\n",
      "[5, 6, 8, 98]\n",
      "[4, 5, 6, 8, 98]\n",
      "[3, 4, 5, 6, 8, 98]\n",
      "[2, 3, 4, 5, 6, 8, 98]\n",
      "[1, 2, 3, 4, 5, 6, 8, 98]\n"
     ]
    }
   ],
   "source": [
    "for x in [1,2,3,4,5,6,8,98]:\n",
    "    t.insert(x)"
   ]
  },
  {
   "cell_type": "code",
   "execution_count": 189,
   "metadata": {},
   "outputs": [
    {
     "name": "stdout",
     "output_type": "stream",
     "text": [
      "[1, 2, 3, 4, 5, 6, 8, 98]\n"
     ]
    }
   ],
   "source": [
    "print(t)"
   ]
  },
  {
   "cell_type": "code",
   "execution_count": 190,
   "metadata": {},
   "outputs": [
    {
     "name": "stdout",
     "output_type": "stream",
     "text": [
      "[4, 4.5, 5, 6, 8, 98]\n",
      "[3, 4, 4.5, 5, 6, 8, 98]\n",
      "[2, 3, 4, 4.5, 5, 6, 8, 98]\n",
      "[1, 2, 3, 4, 4.5, 5, 6, 8, 98]\n"
     ]
    }
   ],
   "source": [
    "t.insert(4.5)"
   ]
  },
  {
   "cell_type": "code",
   "execution_count": 191,
   "metadata": {},
   "outputs": [
    {
     "data": {
      "text/plain": [
       "True"
      ]
     },
     "execution_count": 191,
     "metadata": {},
     "output_type": "execute_result"
    }
   ],
   "source": [
    "t.find(4)\n"
   ]
  },
  {
   "cell_type": "code",
   "execution_count": null,
   "metadata": {},
   "outputs": [],
   "source": []
  },
  {
   "cell_type": "code",
   "execution_count": null,
   "metadata": {},
   "outputs": [],
   "source": []
  },
  {
   "cell_type": "code",
   "execution_count": null,
   "metadata": {},
   "outputs": [],
   "source": []
  }
 ],
 "metadata": {
  "kernelspec": {
   "display_name": "Python 3",
   "language": "python",
   "name": "python3"
  },
  "language_info": {
   "codemirror_mode": {
    "name": "ipython",
    "version": 3
   },
   "file_extension": ".py",
   "mimetype": "text/x-python",
   "name": "python",
   "nbconvert_exporter": "python",
   "pygments_lexer": "ipython3",
   "version": "3.7.3"
  }
 },
 "nbformat": 4,
 "nbformat_minor": 2
}
